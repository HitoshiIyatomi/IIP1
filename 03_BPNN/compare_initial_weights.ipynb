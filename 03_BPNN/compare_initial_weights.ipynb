{
 "cells": [
  {
   "cell_type": "code",
   "execution_count": 2,
   "metadata": {},
   "outputs": [
    {
     "name": "stdout",
     "output_type": "stream",
     "text": [
      "1th layer: mean=0.500 SD=0.261\n",
      "2th layer: mean=0.501 SD=0.171\n",
      "3th layer: mean=0.499 SD=0.161\n",
      "4th layer: mean=0.505 SD=0.170\n",
      "5th layer: mean=0.518 SD=0.173\n"
     ]
    },
    {
     "data": {
      "image/png": "[encoded data removed]",
      "text/plain": [
       "<Figure size 432x288 with 5 Axes>"
      ]
     },
     "metadata": {
      "needs_background": "light"
     },
     "output_type": "display_data"
    }
   ],
   "source": [
    "# investigation on initial weights\n",
    "# compare_initial_weights.ipynb\n",
    "import numpy as np\n",
    "import matplotlib.pyplot as plt\n",
    "\n",
    "# activation function (you can add here!)\n",
    "def sigmoid(x):\n",
    "    return 1 / (1 + np.exp(-x))\n",
    "\n",
    "def ReLU(x):\n",
    "    return np.maximum(0, x)\n",
    "\n",
    "def tanh(x):\n",
    "    return np.tanh(x)\n",
    "\n",
    "node_num = 100  # the number of neurons in hidden layers\n",
    "input_data_num = 1000 # the number of random data\n",
    "\n",
    "input_data = np.random.randn(input_data_num, node_num)  # input data\n",
    "hidden_layer_size = 5  # number of hidden layers  input-100-100-100-100-100-output\n",
    "activations = {}  # storage list for activation of neurons \n",
    "\n",
    "x = input_data\n",
    "\n",
    "for i in range(hidden_layer_size):\n",
    "    if i != 0:\n",
    "        x = activations[i-1]\n",
    "\n",
    "    ########## try various initial weights. ##########\n",
    "    #w = np.random.randn(node_num, node_num) * 10\n",
    "    #w = np.random.randn(node_num, node_num) * 1\n",
    "    #w = np.random.randn(node_num, node_num) * 0.01\n",
    "    #w = np.random.randn(node_num, node_num) * np.sqrt(0.5 / node_num)\n",
    "    #w = np.random.randn(node_num, node_num) * np.sqrt(1.0 / node_num) # Xavier's\n",
    "    w = np.random.randn(node_num, node_num) * np.sqrt(2.0 / node_num)  # He's\n",
    "    #w = np.random.randn(node_num, node_num) * np.sqrt(10.0 / node_num)\n",
    "\n",
    "    a = np.dot(x, w)\n",
    "\n",
    "\n",
    "    ######## try various activation functions.  ########\n",
    "    z = sigmoid(a)\n",
    "    #z = ReLU(a)\n",
    "    #z = tanh(a)\n",
    "\n",
    "    activations[i] = z\n",
    "    print('{:d}th layer: mean={:.3f} SD={:.3f}'.format(i+1,np.mean(z), np.std(z)))\n",
    "\n",
    "# drawing a histogram of activation\n",
    "for i, a in activations.items():\n",
    "    plt.subplot(1, len(activations), i+1)\n",
    "    plt.title(str(i+1) + \"-layer\")\n",
    "    if i != 0: plt.yticks([], [])\n",
    "    # plt.xlim(0.1, 1)\n",
    "    # plt.ylim(0, 7000) # to focus on the distribution\n",
    "    plt.hist(a.flatten(), 30, range=(0,1)) #if you choose ReLU change (0,5) or so\n",
    "plt.show()"
   ]
  },
  {
   "cell_type": "code",
   "execution_count": null,
   "metadata": {},
   "outputs": [],
   "source": []
  }
 ],
 "metadata": {
  "kernelspec": {
   "display_name": "deep-first",
   "language": "python",
   "name": "deep-first"
  },
  "language_info": {
   "codemirror_mode": {
    "name": "ipython",
    "version": 3
   },
   "file_extension": ".py",
   "mimetype": "text/x-python",
   "name": "python",
   "nbconvert_exporter": "python",
   "pygments_lexer": "ipython3",
   "version": "3.7.1"
  }
 },
 "nbformat": 4,
 "nbformat_minor": 4
}
