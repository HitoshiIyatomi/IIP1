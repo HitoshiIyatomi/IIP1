{
  "nbformat": 4,
  "nbformat_minor": 0,
  "metadata": {
    "colab": {
      "name": "000_SVD_A.ipynb",
      "provenance": [],
      "collapsed_sections": []
    },
    "kernelspec": {
      "name": "python3",
      "display_name": "Python 3"
    },
    "language_info": {
      "name": "python"
    }
  },
  "cells": [
    {
      "cell_type": "markdown",
      "metadata": {
        "id": "l4zYQx5IP1-0"
      },
      "source": [
        "# singular value decomposition (SVD)"
      ]
    },
    {
      "cell_type": "code",
      "metadata": {
        "id": "c_Mg5Q8YP1en"
      },
      "source": [
        "import sys\n",
        "import sklearn\n",
        "import numpy as np\n",
        "import os\n",
        "import matplotlib.pyplot as plt\n",
        "\n",
        "# to make this notebook's output stable across runs\n",
        "np.random.seed(1234)"
      ],
      "execution_count": 1,
      "outputs": []
    },
    {
      "cell_type": "markdown",
      "metadata": {
        "id": "RkkiyFd2YoMO"
      },
      "source": [
        "## Generating 2D example\n",
        "\n",
        "Generating 5 x 2dim data  \n",
        "\n",
        "Important Note: python handle vectors in horizontal form.  \n",
        "\n",
        "Firstly, $X$ is centerized. Each feature has 0-mean."
      ]
    },
    {
      "cell_type": "code",
      "metadata": {
        "colab": {
          "base_uri": "https://localhost:8080/"
        },
        "id": "tx5eHNlknZoP",
        "outputId": "1399184d-a754-4bb9-ef1f-5eb11c0d830b"
      },
      "source": [
        "X = np.arange(10).reshape(5, 2)+ np.random.rand(5,2)*2\n",
        "print(f'X=')\n",
        "print(f'{X}\\n')\n",
        "\n",
        "# convert X in 0-mean form; X_centered (Xc)\n",
        "X_centered = X - X.mean(axis=0)\n",
        "\n",
        "print('after 0-mean process')\n",
        "print(f'X_centered=')\n",
        "print(f'{X_centered}')"
      ],
      "execution_count": 2,
      "outputs": [
        {
          "output_type": "stream",
          "text": [
            "X=\n",
            "[[ 0.3830389   2.24421754]\n",
            " [ 2.87545548  4.57071717]\n",
            " [ 5.55995162  5.54518521]\n",
            " [ 6.55292851  8.60374436]\n",
            " [ 9.91627871 10.75186527]]\n",
            "\n",
            "after 0-mean process\n",
            "X_centered=\n",
            "[[-4.67449174 -4.09892837]\n",
            " [-2.18207516 -1.77242874]\n",
            " [ 0.50242097 -0.7979607 ]\n",
            " [ 1.49539787  2.26059845]\n",
            " [ 4.85874806  4.40871936]]\n"
          ],
          "name": "stdout"
        }
      ]
    },
    {
      "cell_type": "code",
      "metadata": {
        "colab": {
          "base_uri": "https://localhost:8080/"
        },
        "id": "kSQd9zVjGmG7",
        "outputId": "53352dfa-f60f-4fbb-f24b-9ce4a845ea94"
      },
      "source": [
        "# confirm centered X (X_centered) \n",
        "# mean of each dimension is normalized to 0\n",
        "print(f' mean of 1st dimension of X = {np.mean(X[:,0])}')\n",
        "print(f' mean of 1st dimension of X_centered = {np.mean(X_centered[:,0])}')"
      ],
      "execution_count": 3,
      "outputs": [
        {
          "output_type": "stream",
          "text": [
            " mean of 1st dimension of X = 5.057530642532645\n",
            " mean of 1st dimension of X_centered = 1.7763568394002506e-16\n"
          ],
          "name": "stdout"
        }
      ]
    },
    {
      "cell_type": "code",
      "metadata": {
        "colab": {
          "base_uri": "https://localhost:8080/",
          "height": 279
        },
        "id": "hm2OUYatp7PL",
        "outputId": "de2aa6a7-d767-4d03-9c6a-251236a10274"
      },
      "source": [
        "#graph frame\n",
        "fig = plt.figure()\n",
        "plt.xlabel(\"x1\")\n",
        "plt.ylabel(\"x2\")\n",
        "\n",
        "#plot\n",
        "plt.scatter(X_centered[:,0], X_centered[:,1])\n",
        "plt.show()"
      ],
      "execution_count": 4,
      "outputs": [
        {
          "output_type": "display_data",
          "data": {
            "image/png": "[encoded data removed]",
            "text/plain": [
              "<Figure size 432x288 with 1 Axes>"
            ]
          },
          "metadata": {
            "tags": [],
            "needs_background": "light"
          }
        }
      ]
    },
    {
      "cell_type": "markdown",
      "metadata": {
        "id": "3iZ45VHoHhKG"
      },
      "source": [
        "### Perform SVD on $X_{centered}$\n",
        "\n",
        "This example perform SVD on $X_{centered}$.  \n",
        "You can perform SVD also on $X$ (of course, it works as well).  \n",
        "\n",
        "\n",
        "$X_{centered} = U \\Sigma V^T $\n",
        "\n",
        "$U$ : left singular matrix  \n",
        "$s$ : singular values  \n",
        "$V$ : right singular matrix  \n",
        "\n",
        "$S$ : covariance matrix.  $s$  is its diagonal element."
      ]
    },
    {
      "cell_type": "code",
      "metadata": {
        "id": "xd5kSqvgudY-"
      },
      "source": [
        "# Perform SVD\n",
        "U, s, Vt = np.linalg.svd(X_centered)\n",
        "\n",
        "# create a cov matrix S from s\n",
        "m, n = X.shape\n",
        "S = np.zeros(X_centered.shape)\n",
        "S[:n, :n] = np.diag(s)\n",
        "\n",
        "u1 = U[0, :]\n",
        "u2 = U[1, :]\n",
        "\n",
        "v1 = Vt.T[:, 0]\n",
        "v2 = Vt.T[:, 1]"
      ],
      "execution_count": 5,
      "outputs": []
    },
    {
      "cell_type": "code",
      "metadata": {
        "colab": {
          "base_uri": "https://localhost:8080/"
        },
        "id": "ebmzZd6WujzC",
        "outputId": "46e6a44a-537d-4ab2-a739-ef16f15ffe97"
      },
      "source": [
        "print(f'X_centered = {X_centered.shape}')\n",
        "print('\\n=======')\n",
        "print(f'U.shape = {U.shape}')\n",
        "print(f's.shape = {s.shape}')\n",
        "print(f'Vt.shape = {Vt.shape}')\n",
        "\n",
        "print('\\n=======')\n",
        "\n",
        "print(f'U (u1, u2, u3, u4, u5) =\\n {U}')\n",
        "print('--------')\n",
        "print('left singular vector')\n",
        "print('first (u1) and second vector (u2) of U')\n",
        "print(f'u1  = {u1}')\n",
        "print(f'u2  = {u2}')\n",
        "\n",
        "print('\\n=======')\n",
        "\n",
        "print(f's = {s}' )\n",
        "\n",
        "print(f'S = \\n {S}' )\n",
        "\n",
        "\n",
        "print('\\n=======')\n",
        "print(f'Vt (v1, v2) =\\n {Vt}')\n",
        "print('-------')\n",
        "print('right singular vectors')\n",
        "print('first (v1) and second vector (v2); they are in horizontal direction')\n",
        "print(f'v1  = {v1}')\n",
        "print(f'v2  = {v2}')"
      ],
      "execution_count": 6,
      "outputs": [
        {
          "output_type": "stream",
          "text": [
            "X_centered = (5, 2)\n",
            "\n",
            "=======\n",
            "U.shape = (5, 5)\n",
            "s.shape = (2,)\n",
            "Vt.shape = (2, 2)\n",
            "\n",
            "=======\n",
            "U (u1, u2, u3, u4, u5) =\n",
            " [[-0.63268355 -0.13774659 -0.0972044   0.33001959  0.67998219]\n",
            " [-0.28560492 -0.1538504   0.77809742 -0.53291637  0.07296872]\n",
            " [-0.01752486  0.8015571   0.43322058  0.41164497  0.00821214]\n",
            " [ 0.26795549 -0.55898045  0.43771785  0.6414446  -0.11266149]\n",
            " [ 0.66785783  0.04902035  0.07641155 -0.16181611  0.72079105]]\n",
            "--------\n",
            "left singular vector\n",
            "first (u1) and second vector (u2) of U\n",
            "u1  = [-0.63268355 -0.13774659 -0.0972044   0.33001959  0.67998219]\n",
            "u2  = [-0.28560492 -0.1538504   0.77809742 -0.53291637  0.07296872]\n",
            "\n",
            "=======\n",
            "s = [9.82329701 1.1566355 ]\n",
            "S = \n",
            " [[9.82329701 0.        ]\n",
            " [0.         1.1566355 ]\n",
            " [0.         0.        ]\n",
            " [0.         0.        ]\n",
            " [0.         0.        ]]\n",
            "\n",
            "=======\n",
            "Vt (v1, v2) =\n",
            " [[ 0.73473637  0.67835276]\n",
            " [ 0.67835276 -0.73473637]]\n",
            "-------\n",
            "right singular vectors\n",
            "first (v1) and second vector (v2); they are in horizontal direction\n",
            "v1  = [0.73473637 0.67835276]\n",
            "v2  = [ 0.67835276 -0.73473637]\n"
          ],
          "name": "stdout"
        }
      ]
    },
    {
      "cell_type": "markdown",
      "metadata": {
        "id": "sUuQsybJa6bw"
      },
      "source": [
        "### confirm SVD works appropriately"
      ]
    },
    {
      "cell_type": "code",
      "metadata": {
        "colab": {
          "base_uri": "https://localhost:8080/"
        },
        "id": "uMRpiiGOa9UY",
        "outputId": "327ad872-0261-45aa-b51e-aeb9a3997f7e"
      },
      "source": [
        "reconstructedX = U.dot(S).dot(Vt)\n",
        "print(f'reconstructedX = \\n {reconstructedX}\\n')\n",
        "\n",
        "print(f'original X_centered = \\n {X_centered}')\n",
        "\n",
        "print('\\n Are these two close enough ? ')\n",
        "np.allclose(reconstructedX, X_centered)\n"
      ],
      "execution_count": 7,
      "outputs": [
        {
          "output_type": "stream",
          "text": [
            "reconstructedX = \n",
            " [[-4.67449174 -4.09892837]\n",
            " [-2.18207516 -1.77242874]\n",
            " [ 0.50242097 -0.7979607 ]\n",
            " [ 1.49539787  2.26059845]\n",
            " [ 4.85874806  4.40871936]]\n",
            "\n",
            "original X_centered = \n",
            " [[-4.67449174 -4.09892837]\n",
            " [-2.18207516 -1.77242874]\n",
            " [ 0.50242097 -0.7979607 ]\n",
            " [ 1.49539787  2.26059845]\n",
            " [ 4.85874806  4.40871936]]\n",
            "\n",
            " Are these two close enough ? \n"
          ],
          "name": "stdout"
        },
        {
          "output_type": "execute_result",
          "data": {
            "text/plain": [
              "True"
            ]
          },
          "metadata": {
            "tags": []
          },
          "execution_count": 7
        }
      ]
    },
    {
      "cell_type": "markdown",
      "metadata": {
        "id": "3FACgw7KH8Bp"
      },
      "source": [
        "### calculating scores in compressed domain\n",
        "\n",
        "$Y = X_{centered} V = U\\Sigma $\n",
        "\n",
        "Confirm those calulations have same values.\n"
      ]
    },
    {
      "cell_type": "code",
      "metadata": {
        "colab": {
          "base_uri": "https://localhost:8080/"
        },
        "id": "4rn6u0U47WHg",
        "outputId": "7f502f7f-c470-4335-f20b-4de2ac0c4322"
      },
      "source": [
        "# scores in compressed domain Y\n",
        "Y_xv=X_centered.dot(Vt.T)\n",
        "print(Y_xv)\n",
        "Y=Y_xv"
      ],
      "execution_count": 8,
      "outputs": [
        {
          "output_type": "stream",
          "text": [
            "[[-6.21503846 -0.1593226 ]\n",
            " [-2.80558191 -0.17794884]\n",
            " [-0.17215188  0.9271094 ]\n",
            " [ 2.63220639 -0.64653664]\n",
            " [ 6.56056586  0.05669867]]\n"
          ],
          "name": "stdout"
        }
      ]
    },
    {
      "cell_type": "code",
      "metadata": {
        "colab": {
          "base_uri": "https://localhost:8080/"
        },
        "id": "_5fctgCzKWUq",
        "outputId": "d3f73f28-9964-46e7-d27e-07d644d0a9d1"
      },
      "source": [
        "# scores in compressed domain Y (by different calculation)\n",
        "Y_us = U.dot(S)\n",
        "print(Y_us)"
      ],
      "execution_count": 9,
      "outputs": [
        {
          "output_type": "stream",
          "text": [
            "[[-6.21503846 -0.1593226 ]\n",
            " [-2.80558191 -0.17794884]\n",
            " [-0.17215188  0.9271094 ]\n",
            " [ 2.63220639 -0.64653664]\n",
            " [ 6.56056586  0.05669867]]\n"
          ],
          "name": "stdout"
        }
      ]
    },
    {
      "cell_type": "markdown",
      "metadata": {
        "id": "WGIyUyydLbvn"
      },
      "source": [
        "### See the data variance ($\\sigma^2(Y)$) on the compressed feature space ($V$)\n",
        "\n",
        "This value indicate the importance of the singular vector $v$."
      ]
    },
    {
      "cell_type": "code",
      "metadata": {
        "colab": {
          "base_uri": "https://localhost:8080/"
        },
        "id": "kD_a8uKbUxxk",
        "outputId": "0979f4c7-671b-4bed-94bd-62b3b10bfabc"
      },
      "source": [
        "# the variance on the first singular scores\n",
        "# (variance in v1 direction)\n",
        "np.var(Y[:,0])"
      ],
      "execution_count": 10,
      "outputs": [
        {
          "output_type": "execute_result",
          "data": {
            "text/plain": [
              "19.299432833941772"
            ]
          },
          "metadata": {
            "tags": []
          },
          "execution_count": 10
        }
      ]
    },
    {
      "cell_type": "code",
      "metadata": {
        "colab": {
          "base_uri": "https://localhost:8080/"
        },
        "id": "Yootp7rvU7N3",
        "outputId": "5ecc48db-b081-4abd-ba22-98c91cfad4b7"
      },
      "source": [
        "# the variance on the second singular scores\n",
        "# (variance in v2 direction)\n",
        "np.var(Y[:,1])"
      ],
      "execution_count": 11,
      "outputs": [
        {
          "output_type": "execute_result",
          "data": {
            "text/plain": [
              "0.26756113685636845"
            ]
          },
          "metadata": {
            "tags": []
          },
          "execution_count": 11
        }
      ]
    },
    {
      "cell_type": "markdown",
      "metadata": {
        "id": "P6qaseszLvB5"
      },
      "source": [
        "### The ratio of singular values $\\sigma_1 / \\sigma_2$ is equal to $\\sigma_{Y_1} / \\sigma_{Y_2}$ \n"
      ]
    },
    {
      "cell_type": "code",
      "metadata": {
        "colab": {
          "base_uri": "https://localhost:8080/"
        },
        "id": "ilStr4KRLunI",
        "outputId": "246eb0d6-11aa-4ab5-9643-01349555d1b1"
      },
      "source": [
        "# The ratio of singular values\n",
        "print(f' First and second singular values s1, s2 and their ratio = {s[0], s[1], s[0]/s[1]}')\n"
      ],
      "execution_count": 12,
      "outputs": [
        {
          "output_type": "stream",
          "text": [
            " First and second singular values s1, s2 and their ratio = (9.823297011172412, 1.1566355019114023, 8.492992818341548)\n"
          ],
          "name": "stdout"
        }
      ]
    },
    {
      "cell_type": "code",
      "metadata": {
        "colab": {
          "base_uri": "https://localhost:8080/"
        },
        "id": "a6koPEL5Ln3O",
        "outputId": "278d9210-436b-4379-f022-11e043522912"
      },
      "source": [
        "# The ratio of \n",
        "print(f' SD of data distribution on  v1, v2 axis and their ratio = {np.std(Y[:,0]), np.std(Y[:,1]), np.std(Y[:,0])/np.std(Y[:,1]) }')\n",
        "print(np.std(Y[:,0]/np.std(Y[:,1])))"
      ],
      "execution_count": 13,
      "outputs": [
        {
          "output_type": "stream",
          "text": [
            " SD of data distribution on  v1, v2 axis and their ratio = (4.393111976030405, 0.5172631214926968, 8.492992818341547)\n",
            "8.492992818341547\n"
          ],
          "name": "stdout"
        }
      ]
    }
  ]
}