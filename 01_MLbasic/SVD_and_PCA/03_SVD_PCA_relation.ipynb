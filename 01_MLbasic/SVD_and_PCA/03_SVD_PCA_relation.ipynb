{
  "nbformat": 4,
  "nbformat_minor": 0,
  "metadata": {
    "kernelspec": {
      "display_name": "Python 3",
      "language": "python",
      "name": "python3"
    },
    "language_info": {
      "codemirror_mode": {
        "name": "ipython",
        "version": 3
      },
      "file_extension": ".py",
      "mimetype": "text/x-python",
      "name": "python",
      "nbconvert_exporter": "python",
      "pygments_lexer": "ipython3",
      "version": "3.7.10"
    },
    "colab": {
      "name": "SVD_PCA_relation.ipynb",
      "provenance": [],
      "collapsed_sections": []
    }
  },
  "cells": [
    {
      "cell_type": "markdown",
      "metadata": {
        "id": "6vERVrk5LMNf"
      },
      "source": [
        "# Singular value decomposition (SVD) and Principal component analysis (PCA) "
      ]
    },
    {
      "cell_type": "code",
      "metadata": {
        "id": "okWr6vRBLMNg"
      },
      "source": [
        "import sys\n",
        "import sklearn\n",
        "\n",
        "import numpy as np\n",
        "import os"
      ],
      "execution_count": 1,
      "outputs": []
    },
    {
      "cell_type": "markdown",
      "metadata": {
        "id": "KD9OT0cnLMNg"
      },
      "source": [
        "### Build 3D dataset\n",
        "\n",
        "On computer, each data is stored in horizontal vector.  \n",
        "(This is not the same as a mathematical expression. It is transposed.）"
      ]
    },
    {
      "cell_type": "code",
      "metadata": {
        "id": "th64TD8jLMNh"
      },
      "source": [
        "np.random.seed(4)\n",
        "m = 60\n",
        "w1, w2 = 0.1, 0.3\n",
        "noise = 0.1\n",
        "\n",
        "angles = np.random.rand(m) * 3 * np.pi / 2 - 0.5\n",
        "X = np.empty((m, 3))\n",
        "X[:, 0] = np.cos(angles) + np.sin(angles)/2 + noise * np.random.randn(m) / 2\n",
        "X[:, 1] = np.sin(angles) * 0.7 + noise * np.random.randn(m) / 2\n",
        "X[:, 2] = X[:, 0] * w1 + X[:, 1] * w2 + noise * np.random.randn(m)"
      ],
      "execution_count": 2,
      "outputs": []
    },
    {
      "cell_type": "code",
      "metadata": {
        "id": "XuRuWFrVLMNh",
        "colab": {
          "base_uri": "https://localhost:8080/"
        },
        "outputId": "d9ccc920-13dd-4265-b53b-d14e58e7deea"
      },
      "source": [
        "X_centered = X - X.mean(axis=0)\n",
        "print(X_centered[:10])"
      ],
      "execution_count": 3,
      "outputs": [
        {
          "output_type": "stream",
          "text": [
            "[[-1.03976771e+00 -7.60238460e-01 -3.32880482e-01]\n",
            " [-3.17841939e-02  3.90260570e-01 -3.64766659e-02]\n",
            " [-9.77238797e-01 -6.73862060e-01 -3.20757101e-01]\n",
            " [-9.44190485e-01  7.70779228e-04 -4.97304144e-02]\n",
            " [-7.87164831e-01 -5.10641487e-02  1.19970744e-01]\n",
            " [ 1.09409378e+00  1.15762056e-01  2.45551498e-01]\n",
            " [-1.04665623e+00 -8.53165791e-01 -2.05241169e-01]\n",
            " [ 6.49452398e-01 -4.82750342e-01 -7.94325731e-02]\n",
            " [ 9.92128132e-01  3.06140931e-01  3.96278747e-01]\n",
            " [ 5.25509785e-01  4.67955007e-01  1.62461684e-01]]\n"
          ],
          "name": "stdout"
        }
      ]
    },
    {
      "cell_type": "markdown",
      "metadata": {
        "id": "KIvQ1HPyV6Fc"
      },
      "source": [
        "## Perform SVD for $X_{center}$\n",
        "\n",
        "$U$: left singular matrix    \n",
        "$s$: singular values  \n",
        "$V$: right singular matrix  \n",
        "\n",
        "$S$: covariance matrix. $s$ is its diagonal element.  \n"
      ]
    },
    {
      "cell_type": "code",
      "metadata": {
        "id": "_8rjJLjIVtsW",
        "colab": {
          "base_uri": "https://localhost:8080/"
        },
        "outputId": "13cf5f20-89a4-4547-ef84-c2030df0291d"
      },
      "source": [
        "# Perform SVD\n",
        "U, s, Vt = np.linalg.svd(X_centered)\n",
        "\n",
        "print(f' shape of U = {U.shape}')\n",
        "print(f' shape of s = {s.shape}')\n",
        "print(f' shape of Vt = {Vt.shape}')\n",
        "\n",
        "# create a cov matrix S from s\n",
        "m, n = X.shape\n",
        "S = np.zeros(X_centered.shape)\n",
        "S[:n, :n] = np.diag(s)\n",
        "\n",
        "print(f' shape of S = {S.shape}')"
      ],
      "execution_count": 4,
      "outputs": [
        {
          "output_type": "stream",
          "text": [
            " shape of U = (60, 60)\n",
            " shape of s = (3,)\n",
            " shape of Vt = (3, 3)\n",
            " shape of S = (60, 3)\n"
          ],
          "name": "stdout"
        }
      ]
    },
    {
      "cell_type": "code",
      "metadata": {
        "colab": {
          "base_uri": "https://localhost:8080/"
        },
        "id": "DmhPrrAfdshg",
        "outputId": "f2c42b67-d5cb-45c1-9e49-49aa0b1ed0c9"
      },
      "source": [
        "# for confirmation\n",
        "\n",
        "u1 = U[:, 0]\n",
        "u2 = U[:, 1]\n",
        "u3 = U[:, 2]\n",
        "\n",
        "v1 = Vt.T[:, 0]\n",
        "v2 = Vt.T[:, 1]\n",
        "v3 = Vt.T[:, 2]\n",
        "\n",
        "print(f'X_centered = {X_centered.shape}')\n",
        "print('\\n=======')\n",
        "print(f'U.shape = {U.shape}')\n",
        "print(f's.shape = {s.shape}')\n",
        "print(f'Vt.shape = {Vt.shape}')\n",
        "\n",
        "print('\\n=======')\n",
        "\n",
        "#print(f'U (u1, u2, u3, u4, u5) =\\n {U}')\n",
        "#print('--------')\n",
        "print('left singular matrix U')\n",
        "print('first (u1) to third vector (u3) of U')\n",
        "print(f'u1  = {u1}')\n",
        "print(f'u2  = {u2}')\n",
        "print(f'u3  = {u3}')\n",
        "\n",
        "print('\\n=======')\n",
        "print(f's = {s}' )\n",
        "print(f'S (first 10 rows) = \\n {S[:10]}')\n",
        "\n",
        "print('\\n=======')\n",
        "#print(f'Vt (v1, v2, v3) =\\n {Vt}')\n",
        "#print('-------')\n",
        "print('right singular matrix V')\n",
        "print('first (v1) to third vector (v3); they are in horizontal direction')\n",
        "print(f'v1  = {v1}')\n",
        "print(f'v2  = {v2}')\n",
        "print(f'v3  = {v3}')"
      ],
      "execution_count": 5,
      "outputs": [
        {
          "output_type": "stream",
          "text": [
            "X_centered = (60, 3)\n",
            "\n",
            "=======\n",
            "U.shape = (60, 60)\n",
            "s.shape = (3,)\n",
            "Vt.shape = (3, 3)\n",
            "\n",
            "=======\n",
            "left singular matrix U\n",
            "first (u1) to third vector (u3) of U\n",
            "u1  = [-0.18623814  0.01180778 -0.17346216 -0.13178818 -0.10775006  0.16297163\n",
            " -0.18780601  0.06630759  0.16137682  0.09765781 -0.15416057  0.15632448\n",
            " -0.16787761 -0.17124618  0.14781726 -0.04058771  0.06732845  0.11762291\n",
            "  0.09876105 -0.19284393  0.09778846 -0.18503433 -0.15354203 -0.1860085\n",
            "  0.16201204  0.10523169 -0.02624812  0.15196118 -0.1395307   0.11952411\n",
            "  0.02979314 -0.19806744  0.02006933  0.12110959  0.13402096  0.0098926\n",
            "  0.02056666 -0.05512735  0.10790961 -0.07718429  0.12712583 -0.04899798\n",
            " -0.14678399  0.15424011  0.12908978  0.04494672 -0.09398136  0.16656596\n",
            "  0.00566108 -0.06107452 -0.19540901  0.13719378 -0.05943372  0.1645123\n",
            "  0.04709703  0.15150457 -0.18320183  0.09853295 -0.17176825  0.1008287 ]\n",
            "u2  = [-0.14896282  0.12490007 -0.12778066  0.10928631  0.08995651 -0.07154635\n",
            " -0.16565382 -0.23985759  0.01582059  0.101455    0.0398166  -0.11044158\n",
            " -0.05161638 -0.12918245 -0.13959453  0.12177989 -0.24683664  0.09515092\n",
            " -0.2320084  -0.13339537  0.11581444 -0.19845326  0.03090495 -0.05563221\n",
            " -0.13683756 -0.22995991  0.15442105 -0.11950076  0.0808533   0.11972482\n",
            "  0.12445865 -0.15019524  0.13193395 -0.19518455 -0.11284955  0.15044475\n",
            "  0.14839383  0.09674396  0.08300576  0.16508913  0.10698348  0.16767726\n",
            "  0.06495244 -0.1157818   0.06396112  0.15546661  0.11632932 -0.04117275\n",
            "  0.17363921  0.11237256 -0.06885435  0.0652598   0.12094044 -0.08547639\n",
            "  0.09839696 -0.1227907  -0.12411081  0.11424185  0.01291816  0.08058277]\n",
            "u3  = [ 0.01772286 -0.19760878 -0.00925174  0.04376436  0.2526598   0.12980866\n",
            "  0.21034021  0.02632179  0.24691559 -0.04962737 -0.04111047 -0.15395653\n",
            "  0.02712017  0.13727266 -0.07146759 -0.06601335 -0.03782287 -0.06018268\n",
            " -0.05533178 -0.15551875  0.1468765  -0.22432505 -0.12254335  0.04261837\n",
            "  0.1289849  -0.00901553 -0.05913426  0.00970117 -0.04694531  0.08460937\n",
            " -0.08086586 -0.10906963 -0.08032971  0.02416997  0.15324189  0.17082752\n",
            " -0.07321449 -0.19660652 -0.18723474  0.23441496 -0.07032866  0.03017532\n",
            "  0.22093997 -0.0798315  -0.04015036 -0.0964155  -0.15333907  0.09246782\n",
            "  0.10307836 -0.24827875  0.12210085 -0.04544623  0.00198491  0.02390191\n",
            " -0.17876671 -0.03393226 -0.11280883  0.21228513  0.25979975 -0.00763055]\n",
            "\n",
            "=======\n",
            "s = [6.77645005 2.82403671 0.78116597]\n",
            "S (first 10 rows) = \n",
            " [[6.77645005 0.         0.        ]\n",
            " [0.         2.82403671 0.        ]\n",
            " [0.         0.         0.78116597]\n",
            " [0.         0.         0.        ]\n",
            " [0.         0.         0.        ]\n",
            " [0.         0.         0.        ]\n",
            " [0.         0.         0.        ]\n",
            " [0.         0.         0.        ]\n",
            " [0.         0.         0.        ]\n",
            " [0.         0.         0.        ]]\n",
            "\n",
            "=======\n",
            "right singular matrix V\n",
            "first (v1) to third vector (v3); they are in horizontal direction\n",
            "v1  = [0.93636116 0.29854881 0.18465208]\n",
            "v2  = [-0.34027485  0.90119108  0.2684542 ]\n",
            "v3  = [-0.08626012 -0.31420255  0.94542898]\n"
          ],
          "name": "stdout"
        }
      ]
    },
    {
      "cell_type": "markdown",
      "metadata": {
        "id": "pErk3b0y1AEX"
      },
      "source": [
        "## Perform PCA for $X$.  \n",
        "Super-easy. Compare variance-covraiance matrix of $X$ with the above. (in covX)"
      ]
    },
    {
      "cell_type": "code",
      "metadata": {
        "colab": {
          "base_uri": "https://localhost:8080/"
        },
        "id": "peyJV4aJiLQ-",
        "outputId": "94d1168a-f565-4f35-95cf-5ecd49339f38"
      },
      "source": [
        "from sklearn.decomposition import PCA\n",
        "pca3 = PCA(n_components=3)\n",
        "X3D = pca3.fit_transform(X_centered)\n",
        "COV_pca = pca3.get_covariance()\n",
        "print(f' variance-covariance matrix calculated by sklearn :\\n {COV_pca}')\n",
        "print('\\n this is the same with the above')"
      ],
      "execution_count": 6,
      "outputs": [
        {
          "output_type": "stream",
          "text": [
            " variance-covariance matrix calculated by sklearn :\n",
            " [[0.69812855 0.17640539 0.12137931]\n",
            " [0.17640539 0.1801727  0.07253614]\n",
            " [0.12137931 0.07253614 0.04552382]]\n",
            "\n",
            " this is the same with the above\n"
          ],
          "name": "stdout"
        }
      ]
    },
    {
      "cell_type": "markdown",
      "metadata": {
        "id": "gx-OAWiO1VhV"
      },
      "source": [
        "### Calculation of unitary matrix $U_{PCA}$ where each column is eigenvector of $X_c$ (by PCA)\n",
        "\n",
        "We see this is equivalent to $V$ (left singular vector) of $X$ by SVD.\n",
        "(note this is also the same with $U$)  \n"
      ]
    },
    {
      "cell_type": "code",
      "metadata": {
        "colab": {
          "base_uri": "https://localhost:8080/"
        },
        "id": "lmca3i8WiRJY",
        "outputId": "3dcfc58b-6031-4a7e-bc64-c3c7dbb07fd3"
      },
      "source": [
        "# eigen vectors; u1, u2, u3\n",
        "U_pca=pca3.components_\n",
        "print(f'eigenvector U_pca (in horizontal direction; U^T)= \\n {U_pca}')\n",
        "\n",
        "# as for comparison \n",
        "print('\\n right singular matrix V by SVD')\n",
        "print('first (v1) to third vector (v3); they are in horizontal direction')\n",
        "print(f'v1  = {v1}')\n",
        "print(f'v2  = {v2}')\n",
        "print(f'v3  = {v3}')"
      ],
      "execution_count": 7,
      "outputs": [
        {
          "output_type": "stream",
          "text": [
            "eigenvector U_pca (in horizontal direction; U^T)= \n",
            " [[-0.93636116 -0.29854881 -0.18465208]\n",
            " [ 0.34027485 -0.90119108 -0.2684542 ]\n",
            " [-0.08626012 -0.31420255  0.94542898]]\n",
            "\n",
            " right singular matrix V by SVD\n",
            "first (v1) to third vector (v3); they are in horizontal direction\n",
            "v1  = [0.93636116 0.29854881 0.18465208]\n",
            "v2  = [-0.34027485  0.90119108  0.2684542 ]\n",
            "v3  = [-0.08626012 -0.31420255  0.94542898]\n"
          ],
          "name": "stdout"
        }
      ]
    },
    {
      "cell_type": "markdown",
      "metadata": {
        "id": "_nNQv3op91v3"
      },
      "source": [
        "Comparison of singular value of $X$ (by SVD; $\\sigma_i$) and eigenvalue of $X$ (by PCA; $\\lambda_i$).\n",
        "\n",
        "$\\Lambda = \\frac{1}{N-1} \\Sigma^2$  \n",
        "$ \\lambda_i = \\frac{1}{N-1} \\sigma^2$ \n",
        "\n",
        "Confirm they are the same."
      ]
    },
    {
      "cell_type": "code",
      "metadata": {
        "colab": {
          "base_uri": "https://localhost:8080/"
        },
        "id": "SNu63ysC9rpK",
        "outputId": "7ec4a1b8-b8b3-4966-abda-1a47f4290196"
      },
      "source": [
        "# eigenvalues - you will find the same.\n",
        "eigenvalues = pca3.explained_variance_\n",
        "print(f'PCA; eigenvalues of cov(X) = {eigenvalues}')\n",
        "\n",
        "print(f'SVD: singular values of X = {s}')\n",
        "\n",
        "\n",
        "print(f'\\n  (singular value)^2 / (N-1)= \\n  {s*s/(m-1)}')"
      ],
      "execution_count": 8,
      "outputs": [
        {
          "output_type": "stream",
          "text": [
            "PCA; eigenvalues of cov(X) = [0.77830975 0.1351726  0.01034272]\n",
            "SVD: singular values of X = [6.77645005 2.82403671 0.78116597]\n",
            "\n",
            "  (singular value)^2 / (N-1)= \n",
            "  [0.77830975 0.1351726  0.01034272]\n"
          ],
          "name": "stdout"
        }
      ]
    }
  ]
}