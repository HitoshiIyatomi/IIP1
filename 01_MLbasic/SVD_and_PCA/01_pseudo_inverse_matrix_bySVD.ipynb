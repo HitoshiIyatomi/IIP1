{
  "nbformat": 4,
  "nbformat_minor": 0,
  "metadata": {
    "colab": {
      "name": "Pseudo_Inverse_Matrix_bySVD.ipynb",
      "provenance": [],
      "collapsed_sections": []
    },
    "kernelspec": {
      "name": "python3",
      "display_name": "Python 3"
    },
    "language_info": {
      "name": "python"
    }
  },
  "cells": [
    {
      "cell_type": "markdown",
      "metadata": {
        "id": "mMlRhlNBH2xc"
      },
      "source": [
        "# pseudo inverse matrix \n",
        "\n",
        "In this example, we calculate pseudo inverse matrix with SVD (manually).\n",
        "\n",
        "Pseudo inverse matrix of  $X = U \\Sigma V^T$  is  \n",
        "\n",
        "$X^+=V\\Sigma^+ U^T$\n",
        "\n",
        "$\\Sigma^+$ is formed by taking the reciprocal of all the non-zero elements from $\\Sigma$, leaving all the zeros alone, making the matrix the right shape."
      ]
    },
    {
      "cell_type": "code",
      "metadata": {
        "id": "d5fLt4-wHwYD"
      },
      "source": [
        "import sys\n",
        "import sklearn\n",
        "import numpy as np\n",
        "import os\n",
        "# to make this notebook's output stable across runs\n",
        "np.random.seed(42)"
      ],
      "execution_count": 1,
      "outputs": []
    },
    {
      "cell_type": "markdown",
      "metadata": {
        "id": "IA_hT9ZZQPgd"
      },
      "source": [
        "generate 3D dataset (10 x 3dim) \n"
      ]
    },
    {
      "cell_type": "code",
      "metadata": {
        "id": "J4mfoFuaH-7K"
      },
      "source": [
        "m = 10\n",
        "w1, w2 = 0.1, 0.3\n",
        "noise = 0.1\n",
        "\n",
        "angles = np.random.rand(m) * 3 * np.pi / 2 - 0.5\n",
        "X = np.empty((m, 3))\n",
        "X[:, 0] = np.cos(angles) + np.sin(angles)/2 + noise * np.random.randn(m) / 2\n",
        "X[:, 1] = np.sin(angles) * 0.7 + noise * np.random.randn(m) / 2\n",
        "X[:, 2] = X[:, 0] * w1 + X[:, 1] * w2 + noise * np.random.randn(m)"
      ],
      "execution_count": 2,
      "outputs": []
    },
    {
      "cell_type": "code",
      "metadata": {
        "colab": {
          "base_uri": "https://localhost:8080/"
        },
        "id": "PyeIMwtUIZDC",
        "outputId": "d7bee1b7-7580-46a5-a476-f254552b9cd3"
      },
      "source": [
        "print(X.shape)\n",
        "print(f' X is : \\n {X}')"
      ],
      "execution_count": 3,
      "outputs": [
        {
          "output_type": "stream",
          "text": [
            "(10, 3)\n",
            " X is : \n",
            " [[ 0.75439978  0.62211958  0.20201198]\n",
            " [-1.01325399 -0.59118406 -0.30784999]\n",
            " [-0.90928024  0.20696297 -0.08900979]\n",
            " [-0.33941898  0.50074292  0.3015088 ]\n",
            " [ 1.1010898   0.16651662  0.15871424]\n",
            " [ 0.9932989   0.09182542  0.02110642]\n",
            " [ 0.7760796  -0.18427194  0.10458087]\n",
            " [-1.14584015 -0.2927168  -0.32448342]\n",
            " [-0.37916691  0.44892249  0.11764642]\n",
            " [-0.78808185  0.22890949 -0.20610235]]\n"
          ],
          "name": "stdout"
        }
      ]
    },
    {
      "cell_type": "markdown",
      "metadata": {
        "id": "xzfGgXlpQadg"
      },
      "source": [
        "### perform SVD"
      ]
    },
    {
      "cell_type": "code",
      "metadata": {
        "colab": {
          "base_uri": "https://localhost:8080/"
        },
        "id": "ciX2bJYLIhgS",
        "outputId": "6a728b3b-d3a7-4bf9-c53a-0dec1d491ea8"
      },
      "source": [
        "# Perform SVD\n",
        "U, s, Vt = np.linalg.svd(X)\n",
        "\n",
        "print(f' shape of U = {U.shape}')\n",
        "print(f' shape of s = {s.shape}')\n",
        "print(f' shape of Vt = {Vt.shape}')\n",
        "\n",
        "# create a cov matrix S from s\n",
        "m, n = X.shape\n",
        "S = np.zeros(X.shape)\n",
        "S[:n, :n] = np.diag(s)\n",
        "\n",
        "print(f' shape of S = {S.shape}')"
      ],
      "execution_count": 4,
      "outputs": [
        {
          "output_type": "stream",
          "text": [
            " shape of U = (10, 10)\n",
            " shape of s = (3,)\n",
            " shape of Vt = (3, 3)\n",
            " shape of S = (10, 3)\n"
          ],
          "name": "stdout"
        }
      ]
    },
    {
      "cell_type": "markdown",
      "metadata": {
        "id": "xzCPdH33QeEJ"
      },
      "source": [
        "confirm the reconstruction"
      ]
    },
    {
      "cell_type": "code",
      "metadata": {
        "colab": {
          "base_uri": "https://localhost:8080/"
        },
        "id": "o_SoP_ItI9nr",
        "outputId": "de146bb0-5a2a-412f-c770-c14d2cf4555b"
      },
      "source": [
        "# confirm reconstruction\n",
        "X_reconst = U.dot(S).dot(Vt)\n",
        "print(f' reconstruction of X is :\\n {X_reconst}')"
      ],
      "execution_count": 5,
      "outputs": [
        {
          "output_type": "stream",
          "text": [
            " reconstruction of X is :\n",
            " [[ 0.75439978  0.62211958  0.20201198]\n",
            " [-1.01325399 -0.59118406 -0.30784999]\n",
            " [-0.90928024  0.20696297 -0.08900979]\n",
            " [-0.33941898  0.50074292  0.3015088 ]\n",
            " [ 1.1010898   0.16651662  0.15871424]\n",
            " [ 0.9932989   0.09182542  0.02110642]\n",
            " [ 0.7760796  -0.18427194  0.10458087]\n",
            " [-1.14584015 -0.2927168  -0.32448342]\n",
            " [-0.37916691  0.44892249  0.11764642]\n",
            " [-0.78808185  0.22890949 -0.20610235]]\n"
          ],
          "name": "stdout"
        }
      ]
    },
    {
      "cell_type": "code",
      "metadata": {
        "colab": {
          "base_uri": "https://localhost:8080/"
        },
        "id": "DcbZ1v12JRLo",
        "outputId": "fb743baa-46cf-4e82-c95b-5e970abca30c"
      },
      "source": [
        "# confirm it is identical to the original\n",
        "# if true, they are element-wise equal within a tolerance (1e-8+ 1e-5 * n).\n",
        "np.allclose(X, X_reconst)"
      ],
      "execution_count": 6,
      "outputs": [
        {
          "output_type": "execute_result",
          "data": {
            "text/plain": [
              "True"
            ]
          },
          "metadata": {
            "tags": []
          },
          "execution_count": 6
        }
      ]
    },
    {
      "cell_type": "markdown",
      "metadata": {
        "id": "gtmJCvniQoXl"
      },
      "source": [
        "calculation of pseudo inverse matrix  \n",
        "\n",
        "First, we calculate $\\Sigma^+$ from $\\Sigma$."
      ]
    },
    {
      "cell_type": "code",
      "metadata": {
        "id": "ltbVnROuJmZQ"
      },
      "source": [
        "# calculation of pseudo-inverse-matrix X+\n",
        "S_tmp = np.reciprocal(S, where=S!=0) # calculate reciprocal except 0\n",
        "S_Pinv = S_tmp.T"
      ],
      "execution_count": 7,
      "outputs": []
    },
    {
      "cell_type": "code",
      "metadata": {
        "colab": {
          "base_uri": "https://localhost:8080/"
        },
        "id": "UL6Z8h0aLxcl",
        "outputId": "3ac6af6b-e1e6-4923-dff5-0bd615394ae5"
      },
      "source": [
        "print(S)"
      ],
      "execution_count": 8,
      "outputs": [
        {
          "output_type": "stream",
          "text": [
            "[[2.78406863 0.         0.        ]\n",
            " [0.         1.20091856 0.        ]\n",
            " [0.         0.         0.31002664]\n",
            " [0.         0.         0.        ]\n",
            " [0.         0.         0.        ]\n",
            " [0.         0.         0.        ]\n",
            " [0.         0.         0.        ]\n",
            " [0.         0.         0.        ]\n",
            " [0.         0.         0.        ]\n",
            " [0.         0.         0.        ]]\n"
          ],
          "name": "stdout"
        }
      ]
    },
    {
      "cell_type": "code",
      "metadata": {
        "colab": {
          "base_uri": "https://localhost:8080/"
        },
        "id": "sYB4Sp_TL4Or",
        "outputId": "c3d80b53-859d-4886-f41e-c1297f70e9d6"
      },
      "source": [
        "print(S_Pinv)"
      ],
      "execution_count": 9,
      "outputs": [
        {
          "output_type": "stream",
          "text": [
            "[[3.59186548e-01 4.44089210e-16 1.11022302e-16 5.55111512e-17\n",
            "  2.22044605e-16 1.11022302e-16 3.33066907e-16 2.22044605e-16\n",
            "  5.55111512e-17 3.33066907e-16]\n",
            " [2.22044605e-16 8.32695931e-01 2.22044605e-16 2.22044605e-16\n",
            "  2.77555756e-17 6.93889390e-17 3.33066907e-16 5.55111512e-17\n",
            "  3.33066907e-16 2.22044605e-16]\n",
            " [8.32667268e-17 1.66533454e-16 3.22552927e+00 5.55111512e-17\n",
            "  0.00000000e+00 4.51028104e-17 6.93889390e-17 5.55111512e-17\n",
            "  4.16333634e-17 5.55111512e-17]]\n"
          ],
          "name": "stdout"
        }
      ]
    },
    {
      "cell_type": "markdown",
      "metadata": {
        "id": "UTRww1agQ5bV"
      },
      "source": [
        "Pseudo inverse matrix of $X$ is \n",
        "\n",
        "$X^+ = V \\Sigma^+ U^T$ "
      ]
    },
    {
      "cell_type": "code",
      "metadata": {
        "id": "uxbGfgFFNVdO"
      },
      "source": [
        "# calculation of pseudo inverse\n",
        "X_Pinv = (Vt.T).dot(S_Pinv).dot(U.T)"
      ],
      "execution_count": 10,
      "outputs": []
    },
    {
      "cell_type": "code",
      "metadata": {
        "colab": {
          "base_uri": "https://localhost:8080/"
        },
        "id": "3QD995nlNvTW",
        "outputId": "55983008-af84-4fbd-b7ba-5123af4e577a"
      },
      "source": [
        "print(f'size of X      = {X.shape}')\n",
        "print(f'size of X_Pinv = {X_Pinv.shape}')"
      ],
      "execution_count": 11,
      "outputs": [
        {
          "output_type": "stream",
          "text": [
            "size of X      = (10, 3)\n",
            "size of X_Pinv = (3, 10)\n"
          ],
          "name": "stdout"
        }
      ]
    },
    {
      "cell_type": "code",
      "metadata": {
        "colab": {
          "base_uri": "https://localhost:8080/"
        },
        "id": "0O21X1QRN6gU",
        "outputId": "50123916-0bd5-483f-99de-ce15530b043a"
      },
      "source": [
        "print(X_Pinv)"
      ],
      "execution_count": 12,
      "outputs": [
        {
          "output_type": "stream",
          "text": [
            "[[ 0.16111931 -0.1027007  -0.10532153 -0.31899551  0.18595017  0.29723384\n",
            "   0.05344387 -0.03688248 -0.12547462  0.07734477]\n",
            " [ 0.64783355 -0.36834913  0.33108089 -0.1476345   0.13089358  0.37304553\n",
            "  -0.37696618  0.1263186   0.28371517  0.73700536]\n",
            " [-0.8070458   0.04375969 -0.33219534  1.77650925 -0.31938702 -1.25645366\n",
            "   0.57156168 -0.80756049  0.26207929 -1.62960761]]\n"
          ],
          "name": "stdout"
        }
      ]
    },
    {
      "cell_type": "markdown",
      "metadata": {
        "id": "ye6EVhPWO4ks"
      },
      "source": [
        "### Now confirm pseudo inverse matrix works"
      ]
    },
    {
      "cell_type": "markdown",
      "metadata": {
        "id": "T1r9PuEVO-1u"
      },
      "source": [
        "(1) $X^+ X$  \n",
        "Looks it works."
      ]
    },
    {
      "cell_type": "code",
      "metadata": {
        "colab": {
          "base_uri": "https://localhost:8080/"
        },
        "id": "qjnf1IqGN81k",
        "outputId": "9ab0430b-dbb7-49d7-8b7f-b64069baa8d9"
      },
      "source": [
        "# confirm X X_Pinv\n",
        "# this works\n",
        "pseudoI = X_Pinv.dot(X)\n",
        "print(pseudoI)"
      ],
      "execution_count": 13,
      "outputs": [
        {
          "output_type": "stream",
          "text": [
            "[[ 1.00000000e+00  5.18245460e-16  1.51992149e-16]\n",
            " [ 1.11794141e-15  1.00000000e+00  2.51706480e-16]\n",
            " [-3.24009831e-16  5.70561997e-17  1.00000000e+00]]\n"
          ],
          "name": "stdout"
        }
      ]
    },
    {
      "cell_type": "markdown",
      "metadata": {
        "id": "0amz_2G_PEpg"
      },
      "source": [
        "(2) $XX^+$  \n",
        "Looks it does not work.  \n",
        "The calculation of pseudo-inverse matrices in higher order dimensions is generally not accurate due to ill-conditioning.\n"
      ]
    },
    {
      "cell_type": "code",
      "metadata": {
        "colab": {
          "base_uri": "https://localhost:8080/"
        },
        "id": "DPekLnDUOJZI",
        "outputId": "b3afbda3-a6a8-45ac-829f-5496a00023fb"
      },
      "source": [
        "# confirm X X_Pinv (2)\n",
        "# this does not work\n",
        "pseudoI_2 = X.dot(X_Pinv)\n",
        "print(pseudoI_2)"
      ],
      "execution_count": 14,
      "outputs": [
        {
          "output_type": "stream",
          "text": [
            "[[ 0.36154538 -0.29779461  0.05940993  0.0263797   0.15719222  0.20249337\n",
            "  -0.07873769 -0.11237576  0.13478989  0.18765408]\n",
            " [-0.29779461  0.3083526   0.01325404 -0.13639572 -0.16747366 -0.13491269\n",
            "  -0.00725108  0.21130127 -0.12127133 -0.01240103]\n",
            " [ 0.05940993  0.01325404  0.19385691  0.10137472 -0.11356212 -0.08122557\n",
            "  -0.17748808  0.13156058  0.14948251  0.22725578]\n",
            " [ 0.0263797  -0.13639572  0.10137472  0.56997937 -0.09386898 -0.29291873\n",
            "  -0.03457213 -0.16771483  0.26367604 -0.1485431 ]\n",
            " [ 0.15719222 -0.16747366 -0.11356212 -0.09386898  0.17585252  0.18998234\n",
            "   0.08679035 -0.14774813 -0.04931982 -0.05075476]\n",
            " [ 0.20249337 -0.13491269 -0.08122557 -0.29291873  0.18998234  0.30297787\n",
            "   0.03053428 -0.04208078 -0.09304998  0.11010712]\n",
            " [-0.07873769 -0.00725108 -0.17748808 -0.03457213  0.08679035  0.03053428\n",
            "   0.17071541 -0.13635609 -0.12225056 -0.24620949]\n",
            " [-0.11237576  0.21130127  0.13156058 -0.16771483 -0.14774813 -0.04208078\n",
            "  -0.13635609  0.26732584 -0.02431472  0.22442205]\n",
            " [ 0.13478989 -0.12127133  0.14948251  0.26367604 -0.04931982 -0.09304998\n",
            "  -0.12225056 -0.02431472  0.20577463  0.10981421]\n",
            " [ 0.18765408 -0.01240103  0.22725578 -0.1485431  -0.05075476  0.11010712\n",
            "  -0.24620949  0.22442205  0.10981421  0.44361947]]\n"
          ],
          "name": "stdout"
        }
      ]
    },
    {
      "cell_type": "markdown",
      "metadata": {
        "id": "rloAL9EiTYL4"
      },
      "source": [
        "Calculation of pseudo inverse matrix with numpy function."
      ]
    },
    {
      "cell_type": "code",
      "metadata": {
        "colab": {
          "base_uri": "https://localhost:8080/"
        },
        "id": "vtmsQQhXOlFC",
        "outputId": "2c869d6b-7d67-4116-b0e1-07ffb80a3712"
      },
      "source": [
        "from numpy.linalg import pinv \n",
        "\n",
        "X_Pinv2 = pinv(X)\n",
        "print(X_Pinv2)"
      ],
      "execution_count": 15,
      "outputs": [
        {
          "output_type": "stream",
          "text": [
            "[[ 0.16111931 -0.1027007  -0.10532153 -0.31899551  0.18595017  0.29723384\n",
            "   0.05344387 -0.03688248 -0.12547462  0.07734477]\n",
            " [ 0.64783355 -0.36834913  0.33108089 -0.1476345   0.13089358  0.37304553\n",
            "  -0.37696618  0.1263186   0.28371517  0.73700536]\n",
            " [-0.8070458   0.04375969 -0.33219534  1.77650925 -0.31938702 -1.25645366\n",
            "   0.57156168 -0.80756049  0.26207929 -1.62960761]]\n"
          ],
          "name": "stdout"
        }
      ]
    },
    {
      "cell_type": "code",
      "metadata": {
        "id": "VQ8CRveVUN-4",
        "colab": {
          "base_uri": "https://localhost:8080/"
        },
        "outputId": "84d68521-793f-4e63-d5d8-8620692b7ad2"
      },
      "source": [
        "print(X_Pinv2.dot(X))"
      ],
      "execution_count": 16,
      "outputs": [
        {
          "output_type": "stream",
          "text": [
            "[[ 1.00000000e+00  4.84066735e-17  4.05464113e-17]\n",
            " [ 7.20907483e-16  1.00000000e+00  2.05942566e-16]\n",
            " [-4.98999153e-16  2.18906620e-16  1.00000000e+00]]\n"
          ],
          "name": "stdout"
        }
      ]
    },
    {
      "cell_type": "code",
      "metadata": {
        "colab": {
          "base_uri": "https://localhost:8080/"
        },
        "id": "TuJthzOBToLC",
        "outputId": "ebdaf459-b66f-4b5a-9d72-18788c1c263b"
      },
      "source": [
        "print(X.dot(X_Pinv2))"
      ],
      "execution_count": 17,
      "outputs": [
        {
          "output_type": "stream",
          "text": [
            "[[ 0.36154538 -0.29779461  0.05940993  0.0263797   0.15719222  0.20249337\n",
            "  -0.07873769 -0.11237576  0.13478989  0.18765408]\n",
            " [-0.29779461  0.3083526   0.01325404 -0.13639572 -0.16747366 -0.13491269\n",
            "  -0.00725108  0.21130127 -0.12127133 -0.01240103]\n",
            " [ 0.05940993  0.01325404  0.19385691  0.10137472 -0.11356212 -0.08122557\n",
            "  -0.17748808  0.13156058  0.14948251  0.22725578]\n",
            " [ 0.0263797  -0.13639572  0.10137472  0.56997937 -0.09386898 -0.29291873\n",
            "  -0.03457213 -0.16771483  0.26367604 -0.1485431 ]\n",
            " [ 0.15719222 -0.16747366 -0.11356212 -0.09386898  0.17585252  0.18998234\n",
            "   0.08679035 -0.14774813 -0.04931982 -0.05075476]\n",
            " [ 0.20249337 -0.13491269 -0.08122557 -0.29291873  0.18998234  0.30297787\n",
            "   0.03053428 -0.04208078 -0.09304998  0.11010712]\n",
            " [-0.07873769 -0.00725108 -0.17748808 -0.03457213  0.08679035  0.03053428\n",
            "   0.17071541 -0.13635609 -0.12225056 -0.24620949]\n",
            " [-0.11237576  0.21130127  0.13156058 -0.16771483 -0.14774813 -0.04208078\n",
            "  -0.13635609  0.26732584 -0.02431472  0.22442205]\n",
            " [ 0.13478989 -0.12127133  0.14948251  0.26367604 -0.04931982 -0.09304998\n",
            "  -0.12225056 -0.02431472  0.20577463  0.10981421]\n",
            " [ 0.18765408 -0.01240103  0.22725578 -0.1485431  -0.05075476  0.11010712\n",
            "  -0.24620949  0.22442205  0.10981421  0.44361947]]\n"
          ],
          "name": "stdout"
        }
      ]
    }
  ]
}