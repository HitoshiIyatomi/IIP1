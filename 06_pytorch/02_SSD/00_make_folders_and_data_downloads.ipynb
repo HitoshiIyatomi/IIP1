{
 "cells": [
  {
   "cell_type": "markdown",
   "metadata": {},
   "source": [
    "# 00_make_folders_and_data_downloads.ipynb\n",
    "\n",
    "### Run this first.\n",
    "This create ./data and ./weights folders and download files\n",
    "PASCAL VOC and pre-trained VGGnets for SSD"
   ]
  },
  {
   "cell_type": "code",
   "execution_count": 1,
   "metadata": {},
   "outputs": [],
   "source": [
    "import os\n",
    "import urllib.request\n",
    "import zipfile\n",
    "import tarfile"
   ]
  },
  {
   "cell_type": "code",
   "execution_count": 2,
   "metadata": {},
   "outputs": [],
   "source": [
    "# create 'data' folder if does not exists\n",
    "data_dir = \"./data/\"\n",
    "if not os.path.exists(data_dir):\n",
    "    os.mkdir(data_dir)"
   ]
  },
  {
   "cell_type": "code",
   "execution_count": 3,
   "metadata": {},
   "outputs": [],
   "source": [
    "# create 'weights' folder if does not exists\n",
    "weights_dir = \"./weights/\"\n",
    "if not os.path.exists(weights_dir):\n",
    "    os.mkdir(weights_dir)"
   ]
  },
  {
   "cell_type": "code",
   "execution_count": 4,
   "metadata": {},
   "outputs": [],
   "source": [
    "# Download VOC2012 dataset at the first time\n",
    "# takes some time (usually 10-15 min)\n",
    "url = \"http://host.robots.ox.ac.uk/pascal/VOC/voc2012/VOCtrainval_11-May-2012.tar\"\n",
    "target_path = os.path.join(data_dir, \"VOCtrainval_11-May-2012.tar\") \n",
    "\n",
    "if not os.path.exists(target_path):\n",
    "    urllib.request.urlretrieve(url, target_path)\n",
    "    \n",
    "    tar = tarfile.TarFile(target_path)  # load tar file\n",
    "    tar.extractall(data_dir)  # extract tar file\n",
    "    tar.close()  # close tar file\n",
    "    "
   ]
  },
  {
   "cell_type": "code",
   "execution_count": 7,
   "metadata": {},
   "outputs": [],
   "source": [
    "# Download pre-trained VGGnets for SSD into 'weights' folder\n",
    "# MIT License\n",
    "# Copyright (c) 2017 Max deGroot, Ellis Brown\n",
    "# https://github.com/amdegroot/ssd.pytorch\n",
    "    \n",
    "url = \"https://s3.amazonaws.com/amdegroot-models/vgg16_reducedfc.pth\"\n",
    "target_path = os.path.join(weights_dir, \"vgg16_reducedfc.pth\") \n",
    "\n",
    "if not os.path.exists(target_path):\n",
    "    urllib.request.urlretrieve(url, target_path)"
   ]
  },
  {
   "cell_type": "code",
   "execution_count": 6,
   "metadata": {},
   "outputs": [],
   "source": [
    "# Download pre-trained SSD300 model into 'weights' folder\n",
    "# Copyright (c) 2017 Max deGroot, Ellis Brown\n",
    "# https://github.com/amdegroot/ssd.pytorch\n",
    "\n",
    "url = \"https://s3.amazonaws.com/amdegroot-models/ssd300_mAP_77.43_v2.pth\"\n",
    "target_path = os.path.join(weights_dir, \"ssd300_mAP_77.43_v2.pth\") \n",
    "\n",
    "if not os.path.exists(target_path):\n",
    "    urllib.request.urlretrieve(url, target_path)\n"
   ]
  }
 ],
 "metadata": {
  "kernelspec": {
   "display_name": "Python 3",
   "language": "python",
   "name": "python3"
  },
  "language_info": {
   "codemirror_mode": {
    "name": "ipython",
    "version": 3
   },
   "file_extension": ".py",
   "mimetype": "text/x-python",
   "name": "python",
   "nbconvert_exporter": "python",
   "pygments_lexer": "ipython3",
   "version": "3.7.1"
  }
 },
 "nbformat": 4,
 "nbformat_minor": 2
}
