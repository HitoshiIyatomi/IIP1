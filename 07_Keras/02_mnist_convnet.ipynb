{
  "nbformat": 4,
  "nbformat_minor": 0,
  "metadata": {
    "colab": {
      "name": "K01_mnist_convnet",
      "provenance": [],
      "collapsed_sections": []
    },
    "kernelspec": {
      "display_name": "Python 3",
      "language": "python",
      "name": "python3"
    },
    "language_info": {
      "codemirror_mode": {
        "name": "ipython",
        "version": 3
      },
      "file_extension": ".py",
      "mimetype": "text/x-python",
      "name": "python",
      "nbconvert_exporter": "python",
      "pygments_lexer": "ipython3",
      "version": "3.7.0"
    },
    "accelerator": "GPU"
  },
  "cells": [
    {
      "cell_type": "markdown",
      "metadata": {
        "id": "NIZgWgq_IdLD"
      },
      "source": [
        "# Simple MNIST convnet\n",
        "\n",
        "**Author:** [fchollet](https://twitter.com/fchollet)<br>\n",
        "**Date created:** 2015/06/19<br>\n",
        "**Last modified:** 2020/04/21 - 2021/5/10 by Hitoshi Iyatomi<br>\n",
        "**Description:** A simple convnet that achieves ~99% test accuracy on MNIST."
      ]
    },
    {
      "cell_type": "markdown",
      "metadata": {
        "id": "0jjR2DwnIdLH"
      },
      "source": [
        "## Setup"
      ]
    },
    {
      "cell_type": "code",
      "metadata": {
        "id": "1QzKQySjIdLI"
      },
      "source": [
        "import numpy as np\n",
        "from tensorflow import keras\n",
        "from tensorflow.keras import layers"
      ],
      "execution_count": null,
      "outputs": []
    },
    {
      "cell_type": "markdown",
      "metadata": {
        "id": "P_100MtzIdLI"
      },
      "source": [
        "## Prepare the data"
      ]
    },
    {
      "cell_type": "code",
      "metadata": {
        "id": "3qeAoMNFIdLI",
        "colab": {
          "base_uri": "https://localhost:8080/"
        },
        "outputId": "5db21e2c-8d2b-4536-a97d-78583ab7068c"
      },
      "source": [
        "# Model / data parameters\n",
        "num_classes = 10\n",
        "input_shape = (28, 28, 1)\n",
        "\n",
        "# the data, split between train and test sets\n",
        "(x_train, y_train), (x_test, y_test) = keras.datasets.mnist.load_data()\n",
        "\n",
        "# Scale images to the [0, 1] range\n",
        "x_train = x_train.astype(\"float32\") / 255\n",
        "x_test = x_test.astype(\"float32\") / 255\n",
        "# Make sure images have shape (28, 28, 1)\n",
        "x_train = np.expand_dims(x_train, -1)\n",
        "x_test = np.expand_dims(x_test, -1)\n",
        "print(x_train.shape[0], \"train samples\")\n",
        "print(x_test.shape[0], \"test samples\")\n",
        "\n",
        "\n",
        "# convert class vectors to binary class matrices\n",
        "y_train = keras.utils.to_categorical(y_train, num_classes)\n",
        "y_test = keras.utils.to_categorical(y_test, num_classes)"
      ],
      "execution_count": null,
      "outputs": [
        {
          "output_type": "stream",
          "text": [
            "Downloading data from https://storage.googleapis.com/tensorflow/tf-keras-datasets/mnist.npz\n",
            "11493376/11490434 [==============================] - 0s 0us/step\n",
            "x_train shape: (60000, 28, 28, 1)\n",
            "60000 train samples\n",
            "10000 test samples\n"
          ],
          "name": "stdout"
        }
      ]
    },
    {
      "cell_type": "code",
      "metadata": {
        "colab": {
          "base_uri": "https://localhost:8080/"
        },
        "id": "CZjMWy1y_wRv",
        "outputId": "f28dc939-4f26-4b2f-fe78-f555026fa6e8"
      },
      "source": [
        "print(f'x_train shape : {x_train.shape} ')\n",
        "print(f'x_test shape  : {x_test.shape} ')\n",
        "print(f'y_train shape : {y_train.shape} ')\n",
        "print(f'y_test shape  : {y_test.shape} ')"
      ],
      "execution_count": null,
      "outputs": [
        {
          "output_type": "stream",
          "text": [
            "x_train shape : (60000, 28, 28, 1) \n",
            "x_test shape  : (10000, 28, 28, 1) \n",
            "y_train shape : (60000, 10) \n",
            "y_test shape  : (10000, 10) \n"
          ],
          "name": "stdout"
        }
      ]
    },
    {
      "cell_type": "markdown",
      "metadata": {
        "id": "ya7NEsaKIdLJ"
      },
      "source": [
        "## Build the model"
      ]
    },
    {
      "cell_type": "code",
      "metadata": {
        "id": "jpy3DjlpIdLJ",
        "colab": {
          "base_uri": "https://localhost:8080/"
        },
        "outputId": "8ed4079e-9f7c-4e8c-cea8-9f35a3e97cf7"
      },
      "source": [
        "model = keras.Sequential(\n",
        "    [\n",
        "        keras.Input(shape=input_shape),\n",
        "        layers.Conv2D(32, kernel_size=(3, 3), activation=\"relu\"),\n",
        "        layers.MaxPooling2D(pool_size=(2, 2)),\n",
        "        layers.Conv2D(64, kernel_size=(3, 3), activation=\"relu\"),\n",
        "        layers.MaxPooling2D(pool_size=(2, 2)),\n",
        "        layers.Flatten(),\n",
        "        layers.Dropout(0.5),\n",
        "        layers.Dense(num_classes, activation=\"softmax\"),\n",
        "    ]\n",
        ")\n",
        "\n",
        "model.summary()"
      ],
      "execution_count": null,
      "outputs": [
        {
          "output_type": "stream",
          "text": [
            "Model: \"sequential_1\"\n",
            "_________________________________________________________________\n",
            "Layer (type)                 Output Shape              Param #   \n",
            "=================================================================\n",
            "conv2d_2 (Conv2D)            (None, 26, 26, 32)        320       \n",
            "_________________________________________________________________\n",
            "max_pooling2d_2 (MaxPooling2 (None, 13, 13, 32)        0         \n",
            "_________________________________________________________________\n",
            "conv2d_3 (Conv2D)            (None, 11, 11, 64)        18496     \n",
            "_________________________________________________________________\n",
            "max_pooling2d_3 (MaxPooling2 (None, 5, 5, 64)          0         \n",
            "_________________________________________________________________\n",
            "flatten_1 (Flatten)          (None, 1600)              0         \n",
            "_________________________________________________________________\n",
            "dropout_1 (Dropout)          (None, 1600)              0         \n",
            "_________________________________________________________________\n",
            "dense_1 (Dense)              (None, 10)                16010     \n",
            "=================================================================\n",
            "Total params: 34,826\n",
            "Trainable params: 34,826\n",
            "Non-trainable params: 0\n",
            "_________________________________________________________________\n"
          ],
          "name": "stdout"
        }
      ]
    },
    {
      "cell_type": "markdown",
      "metadata": {
        "id": "TNTV4hxeIdLJ"
      },
      "source": [
        "## Train the model"
      ]
    },
    {
      "cell_type": "code",
      "metadata": {
        "id": "Hrx2_ymDIdLK",
        "colab": {
          "base_uri": "https://localhost:8080/"
        },
        "outputId": "82495dc6-49d6-4d1f-d7bf-e60e5558f9c9"
      },
      "source": [
        "batch_size = 128\n",
        "epochs = 15\n",
        "\n",
        "model.compile(loss=\"categorical_crossentropy\", optimizer=\"adam\", metrics=[\"accuracy\"])\n",
        "\n",
        "model.fit(x_train, y_train, batch_size=batch_size, epochs=epochs, validation_split=0.1)"
      ],
      "execution_count": null,
      "outputs": [
        {
          "output_type": "stream",
          "text": [
            "Epoch 1/15\n",
            "422/422 [==============================] - 34s 10ms/step - loss: 0.7756 - accuracy: 0.7607 - val_loss: 0.0805 - val_accuracy: 0.9788\n",
            "Epoch 2/15\n",
            "422/422 [==============================] - 4s 8ms/step - loss: 0.1203 - accuracy: 0.9639 - val_loss: 0.0566 - val_accuracy: 0.9843\n",
            "Epoch 3/15\n",
            "422/422 [==============================] - 4s 9ms/step - loss: 0.0892 - accuracy: 0.9729 - val_loss: 0.0455 - val_accuracy: 0.9882\n",
            "Epoch 4/15\n",
            "422/422 [==============================] - 4s 9ms/step - loss: 0.0703 - accuracy: 0.9786 - val_loss: 0.0420 - val_accuracy: 0.9898\n",
            "Epoch 5/15\n",
            "422/422 [==============================] - 4s 9ms/step - loss: 0.0642 - accuracy: 0.9799 - val_loss: 0.0371 - val_accuracy: 0.9900\n",
            "Epoch 6/15\n",
            "422/422 [==============================] - 4s 8ms/step - loss: 0.0561 - accuracy: 0.9826 - val_loss: 0.0326 - val_accuracy: 0.9905\n",
            "Epoch 7/15\n",
            "422/422 [==============================] - 4s 8ms/step - loss: 0.0491 - accuracy: 0.9843 - val_loss: 0.0324 - val_accuracy: 0.9917\n",
            "Epoch 8/15\n",
            "422/422 [==============================] - 4s 9ms/step - loss: 0.0460 - accuracy: 0.9862 - val_loss: 0.0322 - val_accuracy: 0.9915\n",
            "Epoch 9/15\n",
            "422/422 [==============================] - 4s 9ms/step - loss: 0.0476 - accuracy: 0.9851 - val_loss: 0.0323 - val_accuracy: 0.9920\n",
            "Epoch 10/15\n",
            "422/422 [==============================] - 4s 9ms/step - loss: 0.0419 - accuracy: 0.9872 - val_loss: 0.0339 - val_accuracy: 0.9912\n",
            "Epoch 11/15\n",
            "422/422 [==============================] - 4s 9ms/step - loss: 0.0384 - accuracy: 0.9881 - val_loss: 0.0335 - val_accuracy: 0.9913\n",
            "Epoch 12/15\n",
            "422/422 [==============================] - 4s 8ms/step - loss: 0.0381 - accuracy: 0.9878 - val_loss: 0.0296 - val_accuracy: 0.9920\n",
            "Epoch 13/15\n",
            "422/422 [==============================] - 4s 8ms/step - loss: 0.0347 - accuracy: 0.9891 - val_loss: 0.0289 - val_accuracy: 0.9932\n",
            "Epoch 14/15\n",
            "422/422 [==============================] - 4s 8ms/step - loss: 0.0371 - accuracy: 0.9882 - val_loss: 0.0289 - val_accuracy: 0.9922\n",
            "Epoch 15/15\n",
            "422/422 [==============================] - 4s 8ms/step - loss: 0.0337 - accuracy: 0.9894 - val_loss: 0.0306 - val_accuracy: 0.9923\n"
          ],
          "name": "stdout"
        },
        {
          "output_type": "execute_result",
          "data": {
            "text/plain": [
              "<tensorflow.python.keras.callbacks.History at 0x7f9bd0480090>"
            ]
          },
          "metadata": {
            "tags": []
          },
          "execution_count": 6
        }
      ]
    },
    {
      "cell_type": "markdown",
      "metadata": {
        "id": "09ctv_Xq994_"
      },
      "source": [
        "## Save network file "
      ]
    },
    {
      "cell_type": "code",
      "metadata": {
        "id": "Ue8fPLW0-Dr2"
      },
      "source": [
        "model.save(\"mnist_weight.h5\")"
      ],
      "execution_count": null,
      "outputs": []
    },
    {
      "cell_type": "markdown",
      "metadata": {
        "id": "lTEZqKSnIdLK"
      },
      "source": [
        "## Evaluate the trained model"
      ]
    },
    {
      "cell_type": "code",
      "metadata": {
        "id": "baFKX57bIdLK",
        "colab": {
          "base_uri": "https://localhost:8080/"
        },
        "outputId": "8409b89f-72b2-48cd-8577-8cfe94e43ee4"
      },
      "source": [
        "score = model.evaluate(x_test, y_test, verbose=0)\n",
        "print(f'Test loss    : {score[0]:.4f}')\n",
        "print(f'Test accuracy: {score[1]:.4f}')"
      ],
      "execution_count": null,
      "outputs": [
        {
          "output_type": "stream",
          "text": [
            "Test loss    : 0.0236\n",
            "Test accuracy: 0.9914\n"
          ],
          "name": "stdout"
        }
      ]
    },
    {
      "cell_type": "markdown",
      "metadata": {
        "id": "RK-ICnok_IH3"
      },
      "source": [
        "### (supplemental) Load weights and evaluate the performance"
      ]
    },
    {
      "cell_type": "code",
      "metadata": {
        "id": "CEg9CXLFJbB9",
        "colab": {
          "base_uri": "https://localhost:8080/"
        },
        "outputId": "df84e739-2c9d-4b5b-de72-cd0a36964468"
      },
      "source": [
        "trained_model = keras.models.load_model(\"mnist_weight.h5\")\n",
        "score = trained_model.evaluate(x_test, y_test, verbose=0)\n",
        "print(f'Test loss    : {score[0]:.4f}')\n",
        "print(f'Test accuracy: {score[1]:.4f}')"
      ],
      "execution_count": null,
      "outputs": [
        {
          "output_type": "stream",
          "text": [
            "Test loss    : 0.0236\n",
            "Test accuracy: 0.9914\n"
          ],
          "name": "stdout"
        }
      ]
    }
  ]
}