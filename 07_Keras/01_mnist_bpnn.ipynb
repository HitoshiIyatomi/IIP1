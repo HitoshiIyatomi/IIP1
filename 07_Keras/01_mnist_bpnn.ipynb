{
  "nbformat": 4,
  "nbformat_minor": 0,
  "metadata": {
    "colab": {
      "name": "K01_mnist_bpnn2.ipynb",
      "provenance": [],
      "collapsed_sections": [],
      "toc_visible": true
    },
    "kernelspec": {
      "display_name": "Python 3",
      "language": "python",
      "name": "python3"
    },
    "language_info": {
      "codemirror_mode": {
        "name": "ipython",
        "version": 3
      },
      "file_extension": ".py",
      "mimetype": "text/x-python",
      "name": "python",
      "nbconvert_exporter": "python",
      "pygments_lexer": "ipython3",
      "version": "3.7.0"
    },
    "accelerator": "GPU"
  },
  "cells": [
    {
      "cell_type": "markdown",
      "metadata": {
        "id": "NIZgWgq_IdLD"
      },
      "source": [
        "# Simple MNIST BPNN\n",
        "\n",
        "(classic three-layer back-propagation neural network)\n",
        "\n",
        "**Author:** Hitoshi Iyatomi <br>\n",
        "**Date created:**  2021/5/10<br>\n",
        "**Description:** A simple back-prop neural network that achieves around 95-97% test accuracy on MNIST (with 32 hidden units with ReLU).\n",
        "\n",
        "activation = ReLU  \n",
        "optimizer  = Adam   "
      ]
    },
    {
      "cell_type": "markdown",
      "metadata": {
        "id": "0jjR2DwnIdLH"
      },
      "source": [
        "## Setup"
      ]
    },
    {
      "cell_type": "code",
      "metadata": {
        "id": "1QzKQySjIdLI"
      },
      "source": [
        "import numpy as np\n",
        "from tensorflow import keras\n",
        "from tensorflow.keras import layers"
      ],
      "execution_count": 1,
      "outputs": []
    },
    {
      "cell_type": "markdown",
      "metadata": {
        "id": "P_100MtzIdLI"
      },
      "source": [
        "## Prepare the data"
      ]
    },
    {
      "cell_type": "code",
      "metadata": {
        "id": "3qeAoMNFIdLI",
        "colab": {
          "base_uri": "https://localhost:8080/"
        },
        "outputId": "eab1030c-0e20-40e3-faa4-13ac2fb1e1f0"
      },
      "source": [
        "# Model / data parameters\n",
        "num_classes = 10\n",
        "input_shape = (28, 28, 1)\n",
        "\n",
        "# the data, split between train and test sets\n",
        "(x_train, y_train), (x_test, y_test) = keras.datasets.mnist.load_data()\n",
        "\n",
        "num_train = x_train.shape[0]\n",
        "num_test  = x_test.shape[0]\n",
        "\n",
        "print(type(x_train))\n",
        "print(\"x_train shape:\", x_train.shape)\n",
        "print(\"y_train shape:\", y_train.shape)\n",
        "print(\"x_test shape:\", x_test.shape)\n",
        "print(\"y_test shape:\", y_test.shape)"
      ],
      "execution_count": 2,
      "outputs": [
        {
          "output_type": "stream",
          "text": [
            "<class 'numpy.ndarray'>\n",
            "x_train shape: (60000, 28, 28)\n",
            "y_train shape: (60000,)\n",
            "x_test shape: (10000, 28, 28)\n",
            "y_test shape: (10000,)\n"
          ],
          "name": "stdout"
        }
      ]
    },
    {
      "cell_type": "code",
      "metadata": {
        "colab": {
          "base_uri": "https://localhost:8080/",
          "height": 282
        },
        "id": "nuQHDBrzX_6g",
        "outputId": "bb219ded-a27a-4781-daba-0d31498fd24d"
      },
      "source": [
        "import matplotlib.pyplot as plt\n",
        "plt.imshow(x_train[0], cmap=\"gray\")\n",
        "print(f'label = {y_train[0]}')"
      ],
      "execution_count": 3,
      "outputs": [
        {
          "output_type": "stream",
          "text": [
            "label = 5\n"
          ],
          "name": "stdout"
        },
        {
          "output_type": "display_data",
          "data": {
            "image/png": "[encoded data removed]",
            "text/plain": [
              "<Figure size 432x288 with 1 Axes>"
            ]
          },
          "metadata": {
            "tags": [],
            "needs_background": "light"
          }
        }
      ]
    },
    {
      "cell_type": "code",
      "metadata": {
        "colab": {
          "base_uri": "https://localhost:8080/"
        },
        "id": "T8GXcE9Ond_j",
        "outputId": "1aa58682-4659-4080-cc01-1edc28ba68be"
      },
      "source": [
        "# flatten image data for BPNN\n",
        "x_train_flat = x_train.reshape(num_train,-1)\n",
        "print(f'x_train_flat : {x_train_flat.shape}')\n",
        "x_test_flat = x_test.reshape(num_test, -1)\n",
        "print(f'x_test_flat  : {x_test_flat.shape}')"
      ],
      "execution_count": 4,
      "outputs": [
        {
          "output_type": "stream",
          "text": [
            "x_train_flat : (60000, 784)\n",
            "x_test_flat  : (10000, 784)\n"
          ],
          "name": "stdout"
        }
      ]
    },
    {
      "cell_type": "code",
      "metadata": {
        "colab": {
          "base_uri": "https://localhost:8080/"
        },
        "id": "yltgoSxqpEZU",
        "outputId": "263f55cb-7e65-4e8a-813a-e7fa810d8f4d"
      },
      "source": [
        "# Scale images to the [0, 1] range\n",
        "x_train_flat = x_train_flat.astype(\"float32\") / 255\n",
        "x_test_flat = x_test_flat.astype(\"float32\") / 255\n",
        "\n",
        "print(\"-----------\")\n",
        "print(\"y_train shape:\", y_train.shape)\n",
        "print(\"y_test shape:\", y_test.shape)\n",
        "\n",
        "for i in range(10):\n",
        "    print(f' y_train {i} : {y_train[i]}')\n",
        "\n",
        "# convert class vectors to binary class matrices\n",
        "# (e.g.  for each data,  '5' -> [0,0,0,0,0,1,0,0,0,0])\n",
        "y_trainCAT = keras.utils.to_categorical(y_train, num_classes)\n",
        "y_testCAT = keras.utils.to_categorical(y_test, num_classes)\n",
        "print('==to_categorial===')\n",
        "print(\"y_trainCAT shape:\", y_trainCAT.shape)\n",
        "print(\"y_testCAT shape:\", y_testCAT.shape)\n",
        "\n",
        "for i in range(10):\n",
        "    print(f' y_trainCAT {i} : {y_trainCAT[i]}')"
      ],
      "execution_count": 5,
      "outputs": [
        {
          "output_type": "stream",
          "text": [
            "-----------\n",
            "y_train shape: (60000,)\n",
            "y_test shape: (10000,)\n",
            " y_train 0 : 5\n",
            " y_train 1 : 0\n",
            " y_train 2 : 4\n",
            " y_train 3 : 1\n",
            " y_train 4 : 9\n",
            " y_train 5 : 2\n",
            " y_train 6 : 1\n",
            " y_train 7 : 3\n",
            " y_train 8 : 1\n",
            " y_train 9 : 4\n",
            "==to_categorial===\n",
            "y_trainCAT shape: (60000, 10)\n",
            "y_testCAT shape: (10000, 10)\n",
            " y_trainCAT 0 : [0. 0. 0. 0. 0. 1. 0. 0. 0. 0.]\n",
            " y_trainCAT 1 : [1. 0. 0. 0. 0. 0. 0. 0. 0. 0.]\n",
            " y_trainCAT 2 : [0. 0. 0. 0. 1. 0. 0. 0. 0. 0.]\n",
            " y_trainCAT 3 : [0. 1. 0. 0. 0. 0. 0. 0. 0. 0.]\n",
            " y_trainCAT 4 : [0. 0. 0. 0. 0. 0. 0. 0. 0. 1.]\n",
            " y_trainCAT 5 : [0. 0. 1. 0. 0. 0. 0. 0. 0. 0.]\n",
            " y_trainCAT 6 : [0. 1. 0. 0. 0. 0. 0. 0. 0. 0.]\n",
            " y_trainCAT 7 : [0. 0. 0. 1. 0. 0. 0. 0. 0. 0.]\n",
            " y_trainCAT 8 : [0. 1. 0. 0. 0. 0. 0. 0. 0. 0.]\n",
            " y_trainCAT 9 : [0. 0. 0. 0. 1. 0. 0. 0. 0. 0.]\n"
          ],
          "name": "stdout"
        }
      ]
    },
    {
      "cell_type": "markdown",
      "metadata": {
        "id": "ya7NEsaKIdLJ"
      },
      "source": [
        "## Build the primitive MLP model\n",
        "\n",
        "(input) 784 - 32 - 10 (output)"
      ]
    },
    {
      "cell_type": "code",
      "metadata": {
        "colab": {
          "base_uri": "https://localhost:8080/"
        },
        "id": "bTMxWvh9iRCT",
        "outputId": "a0ec2aef-79ba-4209-ef10-06a9be0bff3c"
      },
      "source": [
        "model = keras.Sequential(\n",
        "    [\n",
        "        keras.Input(shape=784),\n",
        "        layers.Dense(32, activation=\"relu\"),\n",
        "        layers.Dense(num_classes, activation=\"softmax\"),\n",
        "    ]\n",
        ")\n",
        "model.summary()"
      ],
      "execution_count": 6,
      "outputs": [
        {
          "output_type": "stream",
          "text": [
            "Model: \"sequential\"\n",
            "_________________________________________________________________\n",
            "Layer (type)                 Output Shape              Param #   \n",
            "=================================================================\n",
            "dense (Dense)                (None, 32)                25120     \n",
            "_________________________________________________________________\n",
            "dense_1 (Dense)              (None, 10)                330       \n",
            "=================================================================\n",
            "Total params: 25,450\n",
            "Trainable params: 25,450\n",
            "Non-trainable params: 0\n",
            "_________________________________________________________________\n"
          ],
          "name": "stdout"
        }
      ]
    },
    {
      "cell_type": "markdown",
      "metadata": {
        "id": "TNTV4hxeIdLJ"
      },
      "source": [
        "## Train the model"
      ]
    },
    {
      "cell_type": "code",
      "metadata": {
        "id": "Hrx2_ymDIdLK",
        "colab": {
          "base_uri": "https://localhost:8080/"
        },
        "outputId": "38e724f3-1dd7-4092-8221-69095662d03d"
      },
      "source": [
        "batch_size = 128\n",
        "epochs = 15\n",
        "\n",
        "model.compile(loss=\"categorical_crossentropy\", optimizer=\"adam\", metrics=[\"accuracy\"])\n",
        "\n",
        "model.fit(x_train_flat, y_trainCAT, batch_size=batch_size, epochs=epochs, validation_split=0.1)"
      ],
      "execution_count": 7,
      "outputs": [
        {
          "output_type": "stream",
          "text": [
            "Epoch 1/15\n",
            "422/422 [==============================] - 3s 3ms/step - loss: 0.8684 - accuracy: 0.7563 - val_loss: 0.2562 - val_accuracy: 0.9310\n",
            "Epoch 2/15\n",
            "422/422 [==============================] - 1s 2ms/step - loss: 0.2875 - accuracy: 0.9173 - val_loss: 0.2041 - val_accuracy: 0.9430\n",
            "Epoch 3/15\n",
            "422/422 [==============================] - 1s 2ms/step - loss: 0.2364 - accuracy: 0.9322 - val_loss: 0.1753 - val_accuracy: 0.9522\n",
            "Epoch 4/15\n",
            "422/422 [==============================] - 1s 2ms/step - loss: 0.2031 - accuracy: 0.9422 - val_loss: 0.1589 - val_accuracy: 0.9572\n",
            "Epoch 5/15\n",
            "422/422 [==============================] - 1s 2ms/step - loss: 0.1728 - accuracy: 0.9506 - val_loss: 0.1449 - val_accuracy: 0.9598\n",
            "Epoch 6/15\n",
            "422/422 [==============================] - 1s 2ms/step - loss: 0.1559 - accuracy: 0.9553 - val_loss: 0.1280 - val_accuracy: 0.9653\n",
            "Epoch 7/15\n",
            "422/422 [==============================] - 1s 2ms/step - loss: 0.1415 - accuracy: 0.9598 - val_loss: 0.1237 - val_accuracy: 0.9657\n",
            "Epoch 8/15\n",
            "422/422 [==============================] - 1s 2ms/step - loss: 0.1269 - accuracy: 0.9641 - val_loss: 0.1203 - val_accuracy: 0.9667\n",
            "Epoch 9/15\n",
            "422/422 [==============================] - 1s 2ms/step - loss: 0.1197 - accuracy: 0.9659 - val_loss: 0.1148 - val_accuracy: 0.9695\n",
            "Epoch 10/15\n",
            "422/422 [==============================] - 1s 2ms/step - loss: 0.1080 - accuracy: 0.9694 - val_loss: 0.1131 - val_accuracy: 0.9673\n",
            "Epoch 11/15\n",
            "422/422 [==============================] - 1s 2ms/step - loss: 0.1003 - accuracy: 0.9716 - val_loss: 0.1117 - val_accuracy: 0.9695\n",
            "Epoch 12/15\n",
            "422/422 [==============================] - 1s 2ms/step - loss: 0.0922 - accuracy: 0.9735 - val_loss: 0.1100 - val_accuracy: 0.9687\n",
            "Epoch 13/15\n",
            "422/422 [==============================] - 1s 2ms/step - loss: 0.0890 - accuracy: 0.9747 - val_loss: 0.1056 - val_accuracy: 0.9700\n",
            "Epoch 14/15\n",
            "422/422 [==============================] - 1s 2ms/step - loss: 0.0827 - accuracy: 0.9760 - val_loss: 0.1041 - val_accuracy: 0.9692\n",
            "Epoch 15/15\n",
            "422/422 [==============================] - 1s 2ms/step - loss: 0.0783 - accuracy: 0.9763 - val_loss: 0.1056 - val_accuracy: 0.9702\n"
          ],
          "name": "stdout"
        },
        {
          "output_type": "execute_result",
          "data": {
            "text/plain": [
              "<tensorflow.python.keras.callbacks.History at 0x7f50437df910>"
            ]
          },
          "metadata": {
            "tags": []
          },
          "execution_count": 7
        }
      ]
    },
    {
      "cell_type": "markdown",
      "metadata": {
        "id": "09ctv_Xq994_"
      },
      "source": [
        "## Save network file "
      ]
    },
    {
      "cell_type": "code",
      "metadata": {
        "id": "Ue8fPLW0-Dr2"
      },
      "source": [
        "model.save(\"mnist_BPNN.h5\")"
      ],
      "execution_count": 8,
      "outputs": []
    },
    {
      "cell_type": "markdown",
      "metadata": {
        "id": "lTEZqKSnIdLK"
      },
      "source": [
        "## Evaluate the trained model"
      ]
    },
    {
      "cell_type": "code",
      "metadata": {
        "id": "baFKX57bIdLK",
        "colab": {
          "base_uri": "https://localhost:8080/"
        },
        "outputId": "5134c2a5-c322-48f5-c771-9234faf5b323"
      },
      "source": [
        "score = model.evaluate(x_test_flat, y_testCAT, verbose=0)\n",
        "print(f'Test loss    : {score[0]:.4f}')\n",
        "print(f'Test accuracy: {score[1]:.4f}')"
      ],
      "execution_count": 9,
      "outputs": [
        {
          "output_type": "stream",
          "text": [
            "Test loss    : 0.1112\n",
            "Test accuracy: 0.9679\n"
          ],
          "name": "stdout"
        }
      ]
    },
    {
      "cell_type": "markdown",
      "metadata": {
        "id": "RK-ICnok_IH3"
      },
      "source": [
        "### (supplemental) Load weights and evaluate the performance"
      ]
    },
    {
      "cell_type": "code",
      "metadata": {
        "id": "CEg9CXLFJbB9",
        "colab": {
          "base_uri": "https://localhost:8080/"
        },
        "outputId": "57fc1929-d0de-4ce6-a1fa-c32c186e9d58"
      },
      "source": [
        "trained_model = keras.models.load_model(\"mnist_BPNN.h5\")\n",
        "score = trained_model.evaluate(x_test_flat, y_testCAT, verbose=0)\n",
        "print(f'Test loss    : {score[0]:.4f}')\n",
        "print(f'Test accuracy: {score[1]:.4f}')"
      ],
      "execution_count": 10,
      "outputs": [
        {
          "output_type": "stream",
          "text": [
            "Test loss    : 0.1112\n",
            "Test accuracy: 0.9679\n"
          ],
          "name": "stdout"
        }
      ]
    }
  ]
}